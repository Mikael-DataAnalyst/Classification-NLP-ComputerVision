{
 "cells": [
  {
   "cell_type": "markdown",
   "id": "89be6dd4-784b-4c17-a604-fc4fad8abd42",
   "metadata": {},
   "source": [
    "# Librairies"
   ]
  },
  {
   "cell_type": "code",
   "execution_count": 1,
   "id": "c0936076-f788-466f-be65-75651d7c172a",
   "metadata": {},
   "outputs": [],
   "source": [
    "import pandas as pd\n",
    "pd.set_option('display.max_columns', None)\n",
    "pd.options.mode.chained_assignment = None  # default='warn'\n",
    "\n",
    "\n",
    "from functions import *\n",
    "\n",
    "import matplotlib.pyplot as plt\n",
    "import seaborn as sns"
   ]
  },
  {
   "cell_type": "markdown",
   "id": "6440bd63-3b44-41f7-afaa-f5b9948a600b",
   "metadata": {},
   "source": [
    "# Data"
   ]
  },
  {
   "cell_type": "code",
   "execution_count": 2,
   "id": "d540f71d-2659-4c25-a242-6b240d6ec264",
   "metadata": {},
   "outputs": [],
   "source": [
    "df = pd.read_csv(\"/Users/mikae/OneDrive/Documents/Formation/Data Scientist/Projet_6/Flipkart/flipkart_com-ecommerce_sample_1050.csv\")"
   ]
  },
  {
   "cell_type": "markdown",
   "id": "10598090-7194-4834-a14a-45f0c6acb2d2",
   "metadata": {},
   "source": [
    "## Structure"
   ]
  },
  {
   "cell_type": "code",
   "execution_count": 3,
   "id": "053a449b-82f1-41a0-9514-dddb35a808bf",
   "metadata": {},
   "outputs": [
    {
     "name": "stdout",
     "output_type": "stream",
     "text": [
      "<class 'pandas.core.frame.DataFrame'>\n",
      "RangeIndex: 1050 entries, 0 to 1049\n",
      "Data columns (total 15 columns):\n",
      " #   Column                   Non-Null Count  Dtype  \n",
      "---  ------                   --------------  -----  \n",
      " 0   uniq_id                  1050 non-null   object \n",
      " 1   crawl_timestamp          1050 non-null   object \n",
      " 2   product_url              1050 non-null   object \n",
      " 3   product_name             1050 non-null   object \n",
      " 4   product_category_tree    1050 non-null   object \n",
      " 5   pid                      1050 non-null   object \n",
      " 6   retail_price             1049 non-null   float64\n",
      " 7   discounted_price         1049 non-null   float64\n",
      " 8   image                    1050 non-null   object \n",
      " 9   is_FK_Advantage_product  1050 non-null   bool   \n",
      " 10  description              1050 non-null   object \n",
      " 11  product_rating           1050 non-null   object \n",
      " 12  overall_rating           1050 non-null   object \n",
      " 13  brand                    712 non-null    object \n",
      " 14  product_specifications   1049 non-null   object \n",
      "dtypes: bool(1), float64(2), object(12)\n",
      "memory usage: 116.0+ KB\n"
     ]
    }
   ],
   "source": [
    "df.info()"
   ]
  },
  {
   "cell_type": "code",
   "execution_count": 39,
   "id": "4e4fd04d-e691-48ab-84a8-6ddc5b534a27",
   "metadata": {},
   "outputs": [
    {
     "data": {
      "text/html": [
       "<div>\n",
       "<style scoped>\n",
       "    .dataframe tbody tr th:only-of-type {\n",
       "        vertical-align: middle;\n",
       "    }\n",
       "\n",
       "    .dataframe tbody tr th {\n",
       "        vertical-align: top;\n",
       "    }\n",
       "\n",
       "    .dataframe thead th {\n",
       "        text-align: right;\n",
       "    }\n",
       "</style>\n",
       "<table border=\"1\" class=\"dataframe\">\n",
       "  <thead>\n",
       "    <tr style=\"text-align: right;\">\n",
       "      <th></th>\n",
       "      <th>uniq_id</th>\n",
       "      <th>crawl_timestamp</th>\n",
       "      <th>product_url</th>\n",
       "      <th>product_name</th>\n",
       "      <th>product_category_tree</th>\n",
       "      <th>pid</th>\n",
       "      <th>retail_price</th>\n",
       "      <th>discounted_price</th>\n",
       "      <th>image</th>\n",
       "      <th>is_FK_Advantage_product</th>\n",
       "      <th>description</th>\n",
       "      <th>product_rating</th>\n",
       "      <th>overall_rating</th>\n",
       "      <th>brand</th>\n",
       "      <th>product_specifications</th>\n",
       "    </tr>\n",
       "  </thead>\n",
       "  <tbody>\n",
       "    <tr>\n",
       "      <th>0</th>\n",
       "      <td>55b85ea15a1536d46b7190ad6fff8ce7</td>\n",
       "      <td>2016-04-30 03:22:56 +0000</td>\n",
       "      <td>http://www.flipkart.com/elegance-polyester-mul...</td>\n",
       "      <td>Elegance Polyester Multicolor Abstract Eyelet ...</td>\n",
       "      <td>[\"Home Furnishing &gt;&gt; Curtains &amp; Accessories &gt;&gt;...</td>\n",
       "      <td>CRNEG7BKMFFYHQ8Z</td>\n",
       "      <td>1899.0</td>\n",
       "      <td>899.0</td>\n",
       "      <td>55b85ea15a1536d46b7190ad6fff8ce7.jpg</td>\n",
       "      <td>False</td>\n",
       "      <td>Key Features of Elegance Polyester Multicolor ...</td>\n",
       "      <td>No rating available</td>\n",
       "      <td>No rating available</td>\n",
       "      <td>Elegance</td>\n",
       "      <td>{\"product_specification\"=&gt;[{\"key\"=&gt;\"Brand\", \"v...</td>\n",
       "    </tr>\n",
       "    <tr>\n",
       "      <th>1</th>\n",
       "      <td>7b72c92c2f6c40268628ec5f14c6d590</td>\n",
       "      <td>2016-04-30 03:22:56 +0000</td>\n",
       "      <td>http://www.flipkart.com/sathiyas-cotton-bath-t...</td>\n",
       "      <td>Sathiyas Cotton Bath Towel</td>\n",
       "      <td>[\"Baby Care &gt;&gt; Baby Bath &amp; Skin &gt;&gt; Baby Bath T...</td>\n",
       "      <td>BTWEGFZHGBXPHZUH</td>\n",
       "      <td>600.0</td>\n",
       "      <td>449.0</td>\n",
       "      <td>7b72c92c2f6c40268628ec5f14c6d590.jpg</td>\n",
       "      <td>False</td>\n",
       "      <td>Specifications of Sathiyas Cotton Bath Towel (...</td>\n",
       "      <td>No rating available</td>\n",
       "      <td>No rating available</td>\n",
       "      <td>Sathiyas</td>\n",
       "      <td>{\"product_specification\"=&gt;[{\"key\"=&gt;\"Machine Wa...</td>\n",
       "    </tr>\n",
       "    <tr>\n",
       "      <th>2</th>\n",
       "      <td>64d5d4a258243731dc7bbb1eef49ad74</td>\n",
       "      <td>2016-04-30 03:22:56 +0000</td>\n",
       "      <td>http://www.flipkart.com/eurospa-cotton-terry-f...</td>\n",
       "      <td>Eurospa Cotton Terry Face Towel Set</td>\n",
       "      <td>[\"Baby Care &gt;&gt; Baby Bath &amp; Skin &gt;&gt; Baby Bath T...</td>\n",
       "      <td>BTWEG6SHXTDB2A2Y</td>\n",
       "      <td>NaN</td>\n",
       "      <td>NaN</td>\n",
       "      <td>64d5d4a258243731dc7bbb1eef49ad74.jpg</td>\n",
       "      <td>False</td>\n",
       "      <td>Key Features of Eurospa Cotton Terry Face Towe...</td>\n",
       "      <td>No rating available</td>\n",
       "      <td>No rating available</td>\n",
       "      <td>Eurospa</td>\n",
       "      <td>{\"product_specification\"=&gt;[{\"key\"=&gt;\"Material\",...</td>\n",
       "    </tr>\n",
       "    <tr>\n",
       "      <th>3</th>\n",
       "      <td>d4684dcdc759dd9cdf41504698d737d8</td>\n",
       "      <td>2016-06-20 08:49:52 +0000</td>\n",
       "      <td>http://www.flipkart.com/santosh-royal-fashion-...</td>\n",
       "      <td>SANTOSH ROYAL FASHION Cotton Printed King size...</td>\n",
       "      <td>[\"Home Furnishing &gt;&gt; Bed Linen &gt;&gt; Bedsheets &gt;&gt;...</td>\n",
       "      <td>BDSEJT9UQWHDUBH4</td>\n",
       "      <td>2699.0</td>\n",
       "      <td>1299.0</td>\n",
       "      <td>d4684dcdc759dd9cdf41504698d737d8.jpg</td>\n",
       "      <td>False</td>\n",
       "      <td>Key Features of SANTOSH ROYAL FASHION Cotton P...</td>\n",
       "      <td>No rating available</td>\n",
       "      <td>No rating available</td>\n",
       "      <td>SANTOSH ROYAL FASHION</td>\n",
       "      <td>{\"product_specification\"=&gt;[{\"key\"=&gt;\"Brand\", \"v...</td>\n",
       "    </tr>\n",
       "    <tr>\n",
       "      <th>4</th>\n",
       "      <td>6325b6870c54cd47be6ebfbffa620ec7</td>\n",
       "      <td>2016-06-20 08:49:52 +0000</td>\n",
       "      <td>http://www.flipkart.com/jaipur-print-cotton-fl...</td>\n",
       "      <td>Jaipur Print Cotton Floral King sized Double B...</td>\n",
       "      <td>[\"Home Furnishing &gt;&gt; Bed Linen &gt;&gt; Bedsheets &gt;&gt;...</td>\n",
       "      <td>BDSEJTHNGWVGWWQU</td>\n",
       "      <td>2599.0</td>\n",
       "      <td>698.0</td>\n",
       "      <td>6325b6870c54cd47be6ebfbffa620ec7.jpg</td>\n",
       "      <td>False</td>\n",
       "      <td>Key Features of Jaipur Print Cotton Floral Kin...</td>\n",
       "      <td>No rating available</td>\n",
       "      <td>No rating available</td>\n",
       "      <td>Jaipur Print</td>\n",
       "      <td>{\"product_specification\"=&gt;[{\"key\"=&gt;\"Machine Wa...</td>\n",
       "    </tr>\n",
       "  </tbody>\n",
       "</table>\n",
       "</div>"
      ],
      "text/plain": [
       "                            uniq_id            crawl_timestamp  \\\n",
       "0  55b85ea15a1536d46b7190ad6fff8ce7  2016-04-30 03:22:56 +0000   \n",
       "1  7b72c92c2f6c40268628ec5f14c6d590  2016-04-30 03:22:56 +0000   \n",
       "2  64d5d4a258243731dc7bbb1eef49ad74  2016-04-30 03:22:56 +0000   \n",
       "3  d4684dcdc759dd9cdf41504698d737d8  2016-06-20 08:49:52 +0000   \n",
       "4  6325b6870c54cd47be6ebfbffa620ec7  2016-06-20 08:49:52 +0000   \n",
       "\n",
       "                                         product_url  \\\n",
       "0  http://www.flipkart.com/elegance-polyester-mul...   \n",
       "1  http://www.flipkart.com/sathiyas-cotton-bath-t...   \n",
       "2  http://www.flipkart.com/eurospa-cotton-terry-f...   \n",
       "3  http://www.flipkart.com/santosh-royal-fashion-...   \n",
       "4  http://www.flipkart.com/jaipur-print-cotton-fl...   \n",
       "\n",
       "                                        product_name  \\\n",
       "0  Elegance Polyester Multicolor Abstract Eyelet ...   \n",
       "1                         Sathiyas Cotton Bath Towel   \n",
       "2                Eurospa Cotton Terry Face Towel Set   \n",
       "3  SANTOSH ROYAL FASHION Cotton Printed King size...   \n",
       "4  Jaipur Print Cotton Floral King sized Double B...   \n",
       "\n",
       "                               product_category_tree               pid  \\\n",
       "0  [\"Home Furnishing >> Curtains & Accessories >>...  CRNEG7BKMFFYHQ8Z   \n",
       "1  [\"Baby Care >> Baby Bath & Skin >> Baby Bath T...  BTWEGFZHGBXPHZUH   \n",
       "2  [\"Baby Care >> Baby Bath & Skin >> Baby Bath T...  BTWEG6SHXTDB2A2Y   \n",
       "3  [\"Home Furnishing >> Bed Linen >> Bedsheets >>...  BDSEJT9UQWHDUBH4   \n",
       "4  [\"Home Furnishing >> Bed Linen >> Bedsheets >>...  BDSEJTHNGWVGWWQU   \n",
       "\n",
       "   retail_price  discounted_price                                 image  \\\n",
       "0        1899.0             899.0  55b85ea15a1536d46b7190ad6fff8ce7.jpg   \n",
       "1         600.0             449.0  7b72c92c2f6c40268628ec5f14c6d590.jpg   \n",
       "2           NaN               NaN  64d5d4a258243731dc7bbb1eef49ad74.jpg   \n",
       "3        2699.0            1299.0  d4684dcdc759dd9cdf41504698d737d8.jpg   \n",
       "4        2599.0             698.0  6325b6870c54cd47be6ebfbffa620ec7.jpg   \n",
       "\n",
       "   is_FK_Advantage_product                                        description  \\\n",
       "0                    False  Key Features of Elegance Polyester Multicolor ...   \n",
       "1                    False  Specifications of Sathiyas Cotton Bath Towel (...   \n",
       "2                    False  Key Features of Eurospa Cotton Terry Face Towe...   \n",
       "3                    False  Key Features of SANTOSH ROYAL FASHION Cotton P...   \n",
       "4                    False  Key Features of Jaipur Print Cotton Floral Kin...   \n",
       "\n",
       "        product_rating       overall_rating                  brand  \\\n",
       "0  No rating available  No rating available               Elegance   \n",
       "1  No rating available  No rating available               Sathiyas   \n",
       "2  No rating available  No rating available                Eurospa   \n",
       "3  No rating available  No rating available  SANTOSH ROYAL FASHION   \n",
       "4  No rating available  No rating available           Jaipur Print   \n",
       "\n",
       "                              product_specifications  \n",
       "0  {\"product_specification\"=>[{\"key\"=>\"Brand\", \"v...  \n",
       "1  {\"product_specification\"=>[{\"key\"=>\"Machine Wa...  \n",
       "2  {\"product_specification\"=>[{\"key\"=>\"Material\",...  \n",
       "3  {\"product_specification\"=>[{\"key\"=>\"Brand\", \"v...  \n",
       "4  {\"product_specification\"=>[{\"key\"=>\"Machine Wa...  "
      ]
     },
     "execution_count": 39,
     "metadata": {},
     "output_type": "execute_result"
    }
   ],
   "source": [
    "df.head()"
   ]
  },
  {
   "cell_type": "code",
   "execution_count": 40,
   "id": "1954be5f-533e-41d8-ad99-5fee03c9ea5f",
   "metadata": {},
   "outputs": [
    {
     "data": {
      "text/plain": [
       "uniq_id                    1050\n",
       "crawl_timestamp             149\n",
       "product_url                1050\n",
       "product_name               1050\n",
       "product_category_tree       642\n",
       "pid                        1050\n",
       "retail_price                354\n",
       "discounted_price            424\n",
       "image                      1050\n",
       "is_FK_Advantage_product       2\n",
       "description                1050\n",
       "product_rating               27\n",
       "overall_rating               27\n",
       "brand                       490\n",
       "product_specifications      984\n",
       "dtype: int64"
      ]
     },
     "execution_count": 40,
     "metadata": {},
     "output_type": "execute_result"
    }
   ],
   "source": [
    "df.nunique()"
   ]
  },
  {
   "cell_type": "markdown",
   "id": "f6572e9d-78c5-4bb1-bda1-250bb2d9dfb1",
   "metadata": {},
   "source": [
    "A première vue il n'y a pas de doublons dans les données"
   ]
  },
  {
   "cell_type": "markdown",
   "id": "259ccf1b-2757-418b-8f69-042d7d3928f0",
   "metadata": {},
   "source": [
    "## NaN and duplicated"
   ]
  },
  {
   "cell_type": "code",
   "execution_count": 41,
   "id": "88f59d0a-22e1-4acc-8346-15d9339b0f57",
   "metadata": {},
   "outputs": [
    {
     "data": {
      "text/plain": [
       "uniq_id                      0\n",
       "crawl_timestamp              0\n",
       "product_url                  0\n",
       "product_name                 0\n",
       "product_category_tree        0\n",
       "pid                          0\n",
       "retail_price                 1\n",
       "discounted_price             1\n",
       "image                        0\n",
       "is_FK_Advantage_product      0\n",
       "description                  0\n",
       "product_rating               0\n",
       "overall_rating               0\n",
       "brand                      338\n",
       "product_specifications       1\n",
       "dtype: int64"
      ]
     },
     "execution_count": 41,
     "metadata": {},
     "output_type": "execute_result"
    }
   ],
   "source": [
    "df.isna().sum()"
   ]
  },
  {
   "cell_type": "code",
   "execution_count": 42,
   "id": "73336619-a9c4-448d-838d-852838b6f68d",
   "metadata": {},
   "outputs": [
    {
     "data": {
      "text/plain": [
       "uniq_id                    0.000000\n",
       "crawl_timestamp            0.000000\n",
       "product_url                0.000000\n",
       "product_name               0.000000\n",
       "product_category_tree      0.000000\n",
       "pid                        0.000000\n",
       "image                      0.000000\n",
       "is_FK_Advantage_product    0.000000\n",
       "description                0.000000\n",
       "product_rating             0.000000\n",
       "overall_rating             0.000000\n",
       "retail_price               0.000952\n",
       "discounted_price           0.000952\n",
       "product_specifications     0.000952\n",
       "brand                      0.321905\n",
       "dtype: float64"
      ]
     },
     "execution_count": 42,
     "metadata": {},
     "output_type": "execute_result"
    }
   ],
   "source": [
    "df.isna().mean().sort_values()"
   ]
  },
  {
   "cell_type": "code",
   "execution_count": 43,
   "id": "3e11a3e5-190e-4c02-b781-08c8b9db1721",
   "metadata": {},
   "outputs": [
    {
     "name": "stdout",
     "output_type": "stream",
     "text": [
      "col : uniq_id -> duplicated : 0\n",
      "col : crawl_timestamp -> duplicated : 901\n",
      "col : product_url -> duplicated : 0\n",
      "col : product_name -> duplicated : 0\n",
      "col : product_category_tree -> duplicated : 408\n",
      "col : pid -> duplicated : 0\n",
      "col : retail_price -> duplicated : 695\n",
      "col : discounted_price -> duplicated : 625\n",
      "col : image -> duplicated : 0\n",
      "col : is_FK_Advantage_product -> duplicated : 1048\n",
      "col : description -> duplicated : 0\n",
      "col : product_rating -> duplicated : 1023\n",
      "col : overall_rating -> duplicated : 1023\n",
      "col : brand -> duplicated : 559\n",
      "col : product_specifications -> duplicated : 65\n"
     ]
    }
   ],
   "source": [
    "for col in df.columns : \n",
    "    n = df.duplicated(subset = col).sum()\n",
    "    print(f\"col : {col} -> duplicated : {n}\")"
   ]
  },
  {
   "cell_type": "markdown",
   "id": "38f639af-2e02-4efa-932d-0d8c6659fd7a",
   "metadata": {},
   "source": [
    "Il y a 408 arbres de catégories différents pour 1050 produits  \n",
    "Toutes les images sont uniques  \n",
    "Toutes les descriptions sont uniques "
   ]
  },
  {
   "cell_type": "markdown",
   "id": "7f476662-9653-4513-88d3-397588510fcc",
   "metadata": {},
   "source": [
    "# Data inspection"
   ]
  },
  {
   "cell_type": "code",
   "execution_count": 44,
   "id": "44525e3c-03c8-4ad5-934d-75160f5d3464",
   "metadata": {},
   "outputs": [
    {
     "data": {
      "text/html": [
       "<div>\n",
       "<style scoped>\n",
       "    .dataframe tbody tr th:only-of-type {\n",
       "        vertical-align: middle;\n",
       "    }\n",
       "\n",
       "    .dataframe tbody tr th {\n",
       "        vertical-align: top;\n",
       "    }\n",
       "\n",
       "    .dataframe thead th {\n",
       "        text-align: right;\n",
       "    }\n",
       "</style>\n",
       "<table border=\"1\" class=\"dataframe\">\n",
       "  <thead>\n",
       "    <tr style=\"text-align: right;\">\n",
       "      <th></th>\n",
       "      <th>retail_price</th>\n",
       "      <th>discounted_price</th>\n",
       "    </tr>\n",
       "  </thead>\n",
       "  <tbody>\n",
       "    <tr>\n",
       "      <th>count</th>\n",
       "      <td>1049.000000</td>\n",
       "      <td>1049.000000</td>\n",
       "    </tr>\n",
       "    <tr>\n",
       "      <th>mean</th>\n",
       "      <td>2186.197331</td>\n",
       "      <td>1584.527169</td>\n",
       "    </tr>\n",
       "    <tr>\n",
       "      <th>std</th>\n",
       "      <td>7639.229411</td>\n",
       "      <td>7475.099680</td>\n",
       "    </tr>\n",
       "    <tr>\n",
       "      <th>min</th>\n",
       "      <td>35.000000</td>\n",
       "      <td>35.000000</td>\n",
       "    </tr>\n",
       "    <tr>\n",
       "      <th>25%</th>\n",
       "      <td>555.000000</td>\n",
       "      <td>340.000000</td>\n",
       "    </tr>\n",
       "    <tr>\n",
       "      <th>50%</th>\n",
       "      <td>999.000000</td>\n",
       "      <td>600.000000</td>\n",
       "    </tr>\n",
       "    <tr>\n",
       "      <th>75%</th>\n",
       "      <td>1999.000000</td>\n",
       "      <td>1199.000000</td>\n",
       "    </tr>\n",
       "    <tr>\n",
       "      <th>max</th>\n",
       "      <td>201000.000000</td>\n",
       "      <td>201000.000000</td>\n",
       "    </tr>\n",
       "  </tbody>\n",
       "</table>\n",
       "</div>"
      ],
      "text/plain": [
       "        retail_price  discounted_price\n",
       "count    1049.000000       1049.000000\n",
       "mean     2186.197331       1584.527169\n",
       "std      7639.229411       7475.099680\n",
       "min        35.000000         35.000000\n",
       "25%       555.000000        340.000000\n",
       "50%       999.000000        600.000000\n",
       "75%      1999.000000       1199.000000\n",
       "max    201000.000000     201000.000000"
      ]
     },
     "execution_count": 44,
     "metadata": {},
     "output_type": "execute_result"
    }
   ],
   "source": [
    "df.describe()"
   ]
  },
  {
   "cell_type": "code",
   "execution_count": 45,
   "id": "61f6c78c-0849-42b7-b0ae-2d9fd882b0d9",
   "metadata": {},
   "outputs": [
    {
     "data": {
      "text/html": [
       "<div>\n",
       "<style scoped>\n",
       "    .dataframe tbody tr th:only-of-type {\n",
       "        vertical-align: middle;\n",
       "    }\n",
       "\n",
       "    .dataframe tbody tr th {\n",
       "        vertical-align: top;\n",
       "    }\n",
       "\n",
       "    .dataframe thead th {\n",
       "        text-align: right;\n",
       "    }\n",
       "</style>\n",
       "<table border=\"1\" class=\"dataframe\">\n",
       "  <thead>\n",
       "    <tr style=\"text-align: right;\">\n",
       "      <th></th>\n",
       "      <th>uniq_id</th>\n",
       "      <th>crawl_timestamp</th>\n",
       "      <th>product_url</th>\n",
       "      <th>product_name</th>\n",
       "      <th>product_category_tree</th>\n",
       "      <th>pid</th>\n",
       "      <th>image</th>\n",
       "      <th>description</th>\n",
       "      <th>product_rating</th>\n",
       "      <th>overall_rating</th>\n",
       "      <th>brand</th>\n",
       "      <th>product_specifications</th>\n",
       "    </tr>\n",
       "  </thead>\n",
       "  <tbody>\n",
       "    <tr>\n",
       "      <th>count</th>\n",
       "      <td>1050</td>\n",
       "      <td>1050</td>\n",
       "      <td>1050</td>\n",
       "      <td>1050</td>\n",
       "      <td>1050</td>\n",
       "      <td>1050</td>\n",
       "      <td>1050</td>\n",
       "      <td>1050</td>\n",
       "      <td>1050</td>\n",
       "      <td>1050</td>\n",
       "      <td>712</td>\n",
       "      <td>1049</td>\n",
       "    </tr>\n",
       "    <tr>\n",
       "      <th>unique</th>\n",
       "      <td>1050</td>\n",
       "      <td>149</td>\n",
       "      <td>1050</td>\n",
       "      <td>1050</td>\n",
       "      <td>642</td>\n",
       "      <td>1050</td>\n",
       "      <td>1050</td>\n",
       "      <td>1050</td>\n",
       "      <td>27</td>\n",
       "      <td>27</td>\n",
       "      <td>490</td>\n",
       "      <td>984</td>\n",
       "    </tr>\n",
       "    <tr>\n",
       "      <th>top</th>\n",
       "      <td>55b85ea15a1536d46b7190ad6fff8ce7</td>\n",
       "      <td>2015-12-01 12:40:44 +0000</td>\n",
       "      <td>http://www.flipkart.com/elegance-polyester-mul...</td>\n",
       "      <td>Elegance Polyester Multicolor Abstract Eyelet ...</td>\n",
       "      <td>[\"Home Furnishing &gt;&gt; Bed Linen &gt;&gt; Blankets, Qu...</td>\n",
       "      <td>CRNEG7BKMFFYHQ8Z</td>\n",
       "      <td>55b85ea15a1536d46b7190ad6fff8ce7.jpg</td>\n",
       "      <td>Key Features of Elegance Polyester Multicolor ...</td>\n",
       "      <td>No rating available</td>\n",
       "      <td>No rating available</td>\n",
       "      <td>PRINT SHAPES</td>\n",
       "      <td>{\"product_specification\"=&gt;[{\"key\"=&gt;\"Type\", \"va...</td>\n",
       "    </tr>\n",
       "    <tr>\n",
       "      <th>freq</th>\n",
       "      <td>1</td>\n",
       "      <td>150</td>\n",
       "      <td>1</td>\n",
       "      <td>1</td>\n",
       "      <td>56</td>\n",
       "      <td>1</td>\n",
       "      <td>1</td>\n",
       "      <td>1</td>\n",
       "      <td>889</td>\n",
       "      <td>889</td>\n",
       "      <td>11</td>\n",
       "      <td>22</td>\n",
       "    </tr>\n",
       "  </tbody>\n",
       "</table>\n",
       "</div>"
      ],
      "text/plain": [
       "                                 uniq_id            crawl_timestamp  \\\n",
       "count                               1050                       1050   \n",
       "unique                              1050                        149   \n",
       "top     55b85ea15a1536d46b7190ad6fff8ce7  2015-12-01 12:40:44 +0000   \n",
       "freq                                   1                        150   \n",
       "\n",
       "                                              product_url  \\\n",
       "count                                                1050   \n",
       "unique                                               1050   \n",
       "top     http://www.flipkart.com/elegance-polyester-mul...   \n",
       "freq                                                    1   \n",
       "\n",
       "                                             product_name  \\\n",
       "count                                                1050   \n",
       "unique                                               1050   \n",
       "top     Elegance Polyester Multicolor Abstract Eyelet ...   \n",
       "freq                                                    1   \n",
       "\n",
       "                                    product_category_tree               pid  \\\n",
       "count                                                1050              1050   \n",
       "unique                                                642              1050   \n",
       "top     [\"Home Furnishing >> Bed Linen >> Blankets, Qu...  CRNEG7BKMFFYHQ8Z   \n",
       "freq                                                   56                 1   \n",
       "\n",
       "                                       image  \\\n",
       "count                                   1050   \n",
       "unique                                  1050   \n",
       "top     55b85ea15a1536d46b7190ad6fff8ce7.jpg   \n",
       "freq                                       1   \n",
       "\n",
       "                                              description  \\\n",
       "count                                                1050   \n",
       "unique                                               1050   \n",
       "top     Key Features of Elegance Polyester Multicolor ...   \n",
       "freq                                                    1   \n",
       "\n",
       "             product_rating       overall_rating         brand  \\\n",
       "count                  1050                 1050           712   \n",
       "unique                   27                   27           490   \n",
       "top     No rating available  No rating available  PRINT SHAPES   \n",
       "freq                    889                  889            11   \n",
       "\n",
       "                                   product_specifications  \n",
       "count                                                1049  \n",
       "unique                                                984  \n",
       "top     {\"product_specification\"=>[{\"key\"=>\"Type\", \"va...  \n",
       "freq                                                   22  "
      ]
     },
     "execution_count": 45,
     "metadata": {},
     "output_type": "execute_result"
    }
   ],
   "source": [
    "df.describe(include = object)"
   ]
  },
  {
   "cell_type": "markdown",
   "id": "78cc08a9-f5a9-4207-838e-7c85c5e29d41",
   "metadata": {},
   "source": [
    "# Cleaning"
   ]
  },
  {
   "cell_type": "markdown",
   "id": "b77ef1ca-8756-4482-9afe-224cc2c20065",
   "metadata": {},
   "source": [
    "## Select columns"
   ]
  },
  {
   "cell_type": "markdown",
   "id": "dadac408-e8f8-4e3f-8c52-92e4b1e32036",
   "metadata": {},
   "source": [
    "Pour ce projet de catégorisation nous garderons :  \n",
    "    - L'id pour retrouver les produits  \n",
    "    - le product name qui pourra nous servir    \n",
    "    - l'abre de catégorie pour analyser la catégorie du produit  \n",
    "    - la description pour l'automatisation de la catégorie  \n",
    "    - la marque"
   ]
  },
  {
   "cell_type": "code",
   "execution_count": 46,
   "id": "01fa6f3d-a868-467c-be93-55ad6bda4f6e",
   "metadata": {},
   "outputs": [],
   "source": [
    "cols = [\"uniq_id\", \"product_name\", \"product_category_tree\", \"description\",\"brand\"]\n",
    "df = df[cols]"
   ]
  },
  {
   "cell_type": "code",
   "execution_count": 47,
   "id": "57db4753-4ac6-4708-9d3d-1b95ea58e014",
   "metadata": {},
   "outputs": [
    {
     "data": {
      "text/html": [
       "<div>\n",
       "<style scoped>\n",
       "    .dataframe tbody tr th:only-of-type {\n",
       "        vertical-align: middle;\n",
       "    }\n",
       "\n",
       "    .dataframe tbody tr th {\n",
       "        vertical-align: top;\n",
       "    }\n",
       "\n",
       "    .dataframe thead th {\n",
       "        text-align: right;\n",
       "    }\n",
       "</style>\n",
       "<table border=\"1\" class=\"dataframe\">\n",
       "  <thead>\n",
       "    <tr style=\"text-align: right;\">\n",
       "      <th></th>\n",
       "      <th>uniq_id</th>\n",
       "      <th>product_name</th>\n",
       "      <th>product_category_tree</th>\n",
       "      <th>description</th>\n",
       "      <th>brand</th>\n",
       "    </tr>\n",
       "  </thead>\n",
       "  <tbody>\n",
       "    <tr>\n",
       "      <th>0</th>\n",
       "      <td>55b85ea15a1536d46b7190ad6fff8ce7</td>\n",
       "      <td>Elegance Polyester Multicolor Abstract Eyelet ...</td>\n",
       "      <td>[\"Home Furnishing &gt;&gt; Curtains &amp; Accessories &gt;&gt;...</td>\n",
       "      <td>Key Features of Elegance Polyester Multicolor ...</td>\n",
       "      <td>Elegance</td>\n",
       "    </tr>\n",
       "    <tr>\n",
       "      <th>1</th>\n",
       "      <td>7b72c92c2f6c40268628ec5f14c6d590</td>\n",
       "      <td>Sathiyas Cotton Bath Towel</td>\n",
       "      <td>[\"Baby Care &gt;&gt; Baby Bath &amp; Skin &gt;&gt; Baby Bath T...</td>\n",
       "      <td>Specifications of Sathiyas Cotton Bath Towel (...</td>\n",
       "      <td>Sathiyas</td>\n",
       "    </tr>\n",
       "    <tr>\n",
       "      <th>2</th>\n",
       "      <td>64d5d4a258243731dc7bbb1eef49ad74</td>\n",
       "      <td>Eurospa Cotton Terry Face Towel Set</td>\n",
       "      <td>[\"Baby Care &gt;&gt; Baby Bath &amp; Skin &gt;&gt; Baby Bath T...</td>\n",
       "      <td>Key Features of Eurospa Cotton Terry Face Towe...</td>\n",
       "      <td>Eurospa</td>\n",
       "    </tr>\n",
       "    <tr>\n",
       "      <th>3</th>\n",
       "      <td>d4684dcdc759dd9cdf41504698d737d8</td>\n",
       "      <td>SANTOSH ROYAL FASHION Cotton Printed King size...</td>\n",
       "      <td>[\"Home Furnishing &gt;&gt; Bed Linen &gt;&gt; Bedsheets &gt;&gt;...</td>\n",
       "      <td>Key Features of SANTOSH ROYAL FASHION Cotton P...</td>\n",
       "      <td>SANTOSH ROYAL FASHION</td>\n",
       "    </tr>\n",
       "    <tr>\n",
       "      <th>4</th>\n",
       "      <td>6325b6870c54cd47be6ebfbffa620ec7</td>\n",
       "      <td>Jaipur Print Cotton Floral King sized Double B...</td>\n",
       "      <td>[\"Home Furnishing &gt;&gt; Bed Linen &gt;&gt; Bedsheets &gt;&gt;...</td>\n",
       "      <td>Key Features of Jaipur Print Cotton Floral Kin...</td>\n",
       "      <td>Jaipur Print</td>\n",
       "    </tr>\n",
       "  </tbody>\n",
       "</table>\n",
       "</div>"
      ],
      "text/plain": [
       "                            uniq_id  \\\n",
       "0  55b85ea15a1536d46b7190ad6fff8ce7   \n",
       "1  7b72c92c2f6c40268628ec5f14c6d590   \n",
       "2  64d5d4a258243731dc7bbb1eef49ad74   \n",
       "3  d4684dcdc759dd9cdf41504698d737d8   \n",
       "4  6325b6870c54cd47be6ebfbffa620ec7   \n",
       "\n",
       "                                        product_name  \\\n",
       "0  Elegance Polyester Multicolor Abstract Eyelet ...   \n",
       "1                         Sathiyas Cotton Bath Towel   \n",
       "2                Eurospa Cotton Terry Face Towel Set   \n",
       "3  SANTOSH ROYAL FASHION Cotton Printed King size...   \n",
       "4  Jaipur Print Cotton Floral King sized Double B...   \n",
       "\n",
       "                               product_category_tree  \\\n",
       "0  [\"Home Furnishing >> Curtains & Accessories >>...   \n",
       "1  [\"Baby Care >> Baby Bath & Skin >> Baby Bath T...   \n",
       "2  [\"Baby Care >> Baby Bath & Skin >> Baby Bath T...   \n",
       "3  [\"Home Furnishing >> Bed Linen >> Bedsheets >>...   \n",
       "4  [\"Home Furnishing >> Bed Linen >> Bedsheets >>...   \n",
       "\n",
       "                                         description                  brand  \n",
       "0  Key Features of Elegance Polyester Multicolor ...               Elegance  \n",
       "1  Specifications of Sathiyas Cotton Bath Towel (...               Sathiyas  \n",
       "2  Key Features of Eurospa Cotton Terry Face Towe...                Eurospa  \n",
       "3  Key Features of SANTOSH ROYAL FASHION Cotton P...  SANTOSH ROYAL FASHION  \n",
       "4  Key Features of Jaipur Print Cotton Floral Kin...           Jaipur Print  "
      ]
     },
     "execution_count": 47,
     "metadata": {},
     "output_type": "execute_result"
    }
   ],
   "source": [
    "df.head()"
   ]
  },
  {
   "cell_type": "code",
   "execution_count": 48,
   "id": "bbf7e82b-b3de-4f88-bc3c-5ae3ef9d5ba4",
   "metadata": {},
   "outputs": [
    {
     "data": {
      "text/plain": [
       "uniq_id                    0\n",
       "product_name               0\n",
       "product_category_tree      0\n",
       "description                0\n",
       "brand                    338\n",
       "dtype: int64"
      ]
     },
     "execution_count": 48,
     "metadata": {},
     "output_type": "execute_result"
    }
   ],
   "source": [
    "df.isna().sum()"
   ]
  },
  {
   "cell_type": "markdown",
   "id": "c78ff5b8-937a-4ac8-a533-6ab76b7b073c",
   "metadata": {},
   "source": [
    "# EDA"
   ]
  },
  {
   "cell_type": "code",
   "execution_count": 49,
   "id": "faad0925-33ea-4b76-8c03-18b1683f2f00",
   "metadata": {},
   "outputs": [
    {
     "name": "stdout",
     "output_type": "stream",
     "text": [
      "\u001b[1m        ----------------------- product_name ---------------------\n"
     ]
    },
    {
     "data": {
      "image/png": "[encoded data removed]",
      "text/plain": [
       "<Figure size 720x288 with 2 Axes>"
      ]
     },
     "metadata": {
      "needs_background": "light"
     },
     "output_type": "display_data"
    },
    {
     "name": "stdout",
     "output_type": "stream",
     "text": [
      "\n",
      "\u001b[1m        ----------------------- product_category_tree ---------------------\n"
     ]
    },
    {
     "data": {
      "image/png": "[encoded data removed]",
      "text/plain": [
       "<Figure size 720x288 with 2 Axes>"
      ]
     },
     "metadata": {
      "needs_background": "light"
     },
     "output_type": "display_data"
    },
    {
     "name": "stdout",
     "output_type": "stream",
     "text": [
      "\n",
      "\u001b[1m        ----------------------- description ---------------------\n"
     ]
    },
    {
     "data": {
      "image/png": "[encoded data removed]",
      "text/plain": [
       "<Figure size 720x288 with 2 Axes>"
      ]
     },
     "metadata": {
      "needs_background": "light"
     },
     "output_type": "display_data"
    },
    {
     "name": "stdout",
     "output_type": "stream",
     "text": [
      "\n",
      "\u001b[1m        ----------------------- brand ---------------------\n"
     ]
    },
    {
     "data": {
      "image/png": "[encoded data removed]",
      "text/plain": [
       "<Figure size 720x288 with 2 Axes>"
      ]
     },
     "metadata": {
      "needs_background": "light"
     },
     "output_type": "display_data"
    },
    {
     "name": "stdout",
     "output_type": "stream",
     "text": [
      "\n"
     ]
    }
   ],
   "source": [
    "cols = [\"product_name\", \"product_category_tree\", \"description\", \"brand\"]\n",
    "for col in cols :\n",
    "    print(\"\\033[1m\"f\"        ----------------------- {col} ---------------------\")\n",
    "    tmp = df[col].str.len()\n",
    "    fig, ax = plt.subplots(1,2, figsize=(10,4))\n",
    "    sns.boxplot(ax=ax[0], x=tmp)\n",
    "    sns.histplot(ax=ax[1], x=tmp)\n",
    "    plt.show()\n",
    "    print(\"\")"
   ]
  },
  {
   "cell_type": "markdown",
   "id": "5dd304d5-c782-47bf-9611-7fcdf5684c25",
   "metadata": {},
   "source": [
    "La majorité des descriptions font moins de 500 charactères mais peuvent aller jusqu'à 3500 charactères"
   ]
  },
  {
   "cell_type": "code",
   "execution_count": 50,
   "id": "e572783f-1a3b-4f6d-b0a7-36066d8dd81c",
   "metadata": {},
   "outputs": [],
   "source": [
    "df[\"brand\"]= df[\"brand\"].astype(str)\n"
   ]
  },
  {
   "cell_type": "markdown",
   "id": "b21db812-7eed-42d0-a7f3-27862c0b7378",
   "metadata": {},
   "source": [
    "## Product_name"
   ]
  },
  {
   "cell_type": "markdown",
   "id": "fbd952c1-b6f8-4d8d-b26d-386834607f3a",
   "metadata": {},
   "source": [
    "## Explore corpus and documents"
   ]
  },
  {
   "cell_type": "code",
   "execution_count": 51,
   "id": "726f223e-fa59-47fa-8445-c2b3c38a7751",
   "metadata": {},
   "outputs": [
    {
     "data": {
      "text/html": [
       "<div>\n",
       "<style scoped>\n",
       "    .dataframe tbody tr th:only-of-type {\n",
       "        vertical-align: middle;\n",
       "    }\n",
       "\n",
       "    .dataframe tbody tr th {\n",
       "        vertical-align: top;\n",
       "    }\n",
       "\n",
       "    .dataframe thead th {\n",
       "        text-align: right;\n",
       "    }\n",
       "</style>\n",
       "<table border=\"1\" class=\"dataframe\">\n",
       "  <thead>\n",
       "    <tr style=\"text-align: right;\">\n",
       "      <th></th>\n",
       "      <th>uniq_id</th>\n",
       "      <th>product_name</th>\n",
       "      <th>product_category_tree</th>\n",
       "      <th>description</th>\n",
       "      <th>brand</th>\n",
       "    </tr>\n",
       "  </thead>\n",
       "  <tbody>\n",
       "    <tr>\n",
       "      <th>304</th>\n",
       "      <td>95cb9561009bd6707c67f05e6a00c16e</td>\n",
       "      <td>Homedesires Showpiece  -  10.5 cm</td>\n",
       "      <td>[\"Home Decor &amp; Festive Needs &gt;&gt; Showpieces &gt;&gt; ...</td>\n",
       "      <td>Buy Homedesires Showpiece  -  10.5 cm for Rs.3...</td>\n",
       "      <td>Homedesires</td>\n",
       "    </tr>\n",
       "    <tr>\n",
       "      <th>392</th>\n",
       "      <td>d376da2235096f74600d842b6f5f2d1a</td>\n",
       "      <td>Wild Stone Drift,Wave Combo Set</td>\n",
       "      <td>[\"Beauty and Personal Care &gt;&gt; Fragrances &gt;&gt; De...</td>\n",
       "      <td>Flipkart.com: Buy Wild Stone Drift,Wave Combo ...</td>\n",
       "      <td>nan</td>\n",
       "    </tr>\n",
       "    <tr>\n",
       "      <th>867</th>\n",
       "      <td>2c8912b849cf73676d025aa99203b6d1</td>\n",
       "      <td>Lula Baby Girl's Dark Blue Bodysuit</td>\n",
       "      <td>[\"Baby Care &gt;&gt; Infant Wear &gt;&gt; Baby Girls' Clot...</td>\n",
       "      <td>Key Features of Lula Baby Girl's Dark Blue Bod...</td>\n",
       "      <td>Lula</td>\n",
       "    </tr>\n",
       "    <tr>\n",
       "      <th>56</th>\n",
       "      <td>24e85c590481a7cedfe66597f253f2b2</td>\n",
       "      <td>Borse N16 Make Up And Jewellery Vanity Case</td>\n",
       "      <td>[\"Beauty and Personal Care &gt;&gt; Makeup &gt;&gt; Vanity...</td>\n",
       "      <td>Buy Borse N16 Make Up And Jewellery Vanity Cas...</td>\n",
       "      <td>nan</td>\n",
       "    </tr>\n",
       "    <tr>\n",
       "      <th>201</th>\n",
       "      <td>9c4ab8ab059c912090c83cb0818e7f1c</td>\n",
       "      <td>Lal Haveli Rajasthani Wooden Crafted Unique Ch...</td>\n",
       "      <td>[\"Home Decor &amp; Festive Needs &gt;&gt; Showpieces &gt;&gt; ...</td>\n",
       "      <td>Buy Lal Haveli Rajasthani Wooden Crafted Uniqu...</td>\n",
       "      <td>Lal Haveli</td>\n",
       "    </tr>\n",
       "    <tr>\n",
       "      <th>673</th>\n",
       "      <td>c997312abfa36281d41366cb4a3b908e</td>\n",
       "      <td>VRCT 5 W LED Bulb</td>\n",
       "      <td>[\"Kitchen &amp; Dining &gt;&gt; Lighting &gt;&gt; Bulbs &gt;&gt; VRC...</td>\n",
       "      <td>Buy VRCT 5 W LED Bulb for Rs.259 online. VRCT ...</td>\n",
       "      <td>VRCT</td>\n",
       "    </tr>\n",
       "    <tr>\n",
       "      <th>529</th>\n",
       "      <td>c8c7385b1b9589f009aa836f0590e646</td>\n",
       "      <td>Times 317TMS317 Party-Wedding Analog Watch  - ...</td>\n",
       "      <td>[\"Watches &gt;&gt; Wrist Watches &gt;&gt; Times Wrist Watc...</td>\n",
       "      <td>Times 317TMS317 Party-Wedding Analog Watch  - ...</td>\n",
       "      <td>nan</td>\n",
       "    </tr>\n",
       "    <tr>\n",
       "      <th>585</th>\n",
       "      <td>a70ea60f971825b2eb57261029f317ec</td>\n",
       "      <td>Flippd FDRBB1614 Fibre Analog Watch  - For Men</td>\n",
       "      <td>[\"Watches &gt;&gt; Wrist Watches &gt;&gt; Flippd Wrist Wat...</td>\n",
       "      <td>Flippd FDRBB1614 Fibre Analog Watch  - For Men...</td>\n",
       "      <td>nan</td>\n",
       "    </tr>\n",
       "    <tr>\n",
       "      <th>139</th>\n",
       "      <td>06749cbff1487f470438823f6952cfd1</td>\n",
       "      <td>Prithish Hop Jump Skip Black Ceramic Mug</td>\n",
       "      <td>[\"Kitchen &amp; Dining &gt;&gt; Coffee Mugs &gt;&gt; Prithish ...</td>\n",
       "      <td>Prithish Hop Jump Skip Black Ceramic Mug (330 ...</td>\n",
       "      <td>nan</td>\n",
       "    </tr>\n",
       "    <tr>\n",
       "      <th>59</th>\n",
       "      <td>0abfcbe0e17dd50c4cf5fb1d6037d514</td>\n",
       "      <td>Brillare Science Dandruff Control Shampoo &amp; In...</td>\n",
       "      <td>[\"Beauty and Personal Care &gt;&gt; Combos and Kits ...</td>\n",
       "      <td>Specifications of Brillare Science Dandruff Co...</td>\n",
       "      <td>Brillare Science</td>\n",
       "    </tr>\n",
       "  </tbody>\n",
       "</table>\n",
       "</div>"
      ],
      "text/plain": [
       "                              uniq_id  \\\n",
       "304  95cb9561009bd6707c67f05e6a00c16e   \n",
       "392  d376da2235096f74600d842b6f5f2d1a   \n",
       "867  2c8912b849cf73676d025aa99203b6d1   \n",
       "56   24e85c590481a7cedfe66597f253f2b2   \n",
       "201  9c4ab8ab059c912090c83cb0818e7f1c   \n",
       "673  c997312abfa36281d41366cb4a3b908e   \n",
       "529  c8c7385b1b9589f009aa836f0590e646   \n",
       "585  a70ea60f971825b2eb57261029f317ec   \n",
       "139  06749cbff1487f470438823f6952cfd1   \n",
       "59   0abfcbe0e17dd50c4cf5fb1d6037d514   \n",
       "\n",
       "                                          product_name  \\\n",
       "304                  Homedesires Showpiece  -  10.5 cm   \n",
       "392                    Wild Stone Drift,Wave Combo Set   \n",
       "867                Lula Baby Girl's Dark Blue Bodysuit   \n",
       "56         Borse N16 Make Up And Jewellery Vanity Case   \n",
       "201  Lal Haveli Rajasthani Wooden Crafted Unique Ch...   \n",
       "673                                  VRCT 5 W LED Bulb   \n",
       "529  Times 317TMS317 Party-Wedding Analog Watch  - ...   \n",
       "585     Flippd FDRBB1614 Fibre Analog Watch  - For Men   \n",
       "139           Prithish Hop Jump Skip Black Ceramic Mug   \n",
       "59   Brillare Science Dandruff Control Shampoo & In...   \n",
       "\n",
       "                                 product_category_tree  \\\n",
       "304  [\"Home Decor & Festive Needs >> Showpieces >> ...   \n",
       "392  [\"Beauty and Personal Care >> Fragrances >> De...   \n",
       "867  [\"Baby Care >> Infant Wear >> Baby Girls' Clot...   \n",
       "56   [\"Beauty and Personal Care >> Makeup >> Vanity...   \n",
       "201  [\"Home Decor & Festive Needs >> Showpieces >> ...   \n",
       "673  [\"Kitchen & Dining >> Lighting >> Bulbs >> VRC...   \n",
       "529  [\"Watches >> Wrist Watches >> Times Wrist Watc...   \n",
       "585  [\"Watches >> Wrist Watches >> Flippd Wrist Wat...   \n",
       "139  [\"Kitchen & Dining >> Coffee Mugs >> Prithish ...   \n",
       "59   [\"Beauty and Personal Care >> Combos and Kits ...   \n",
       "\n",
       "                                           description             brand  \n",
       "304  Buy Homedesires Showpiece  -  10.5 cm for Rs.3...       Homedesires  \n",
       "392  Flipkart.com: Buy Wild Stone Drift,Wave Combo ...               nan  \n",
       "867  Key Features of Lula Baby Girl's Dark Blue Bod...              Lula  \n",
       "56   Buy Borse N16 Make Up And Jewellery Vanity Cas...               nan  \n",
       "201  Buy Lal Haveli Rajasthani Wooden Crafted Uniqu...        Lal Haveli  \n",
       "673  Buy VRCT 5 W LED Bulb for Rs.259 online. VRCT ...              VRCT  \n",
       "529  Times 317TMS317 Party-Wedding Analog Watch  - ...               nan  \n",
       "585  Flippd FDRBB1614 Fibre Analog Watch  - For Men...               nan  \n",
       "139  Prithish Hop Jump Skip Black Ceramic Mug (330 ...               nan  \n",
       "59   Specifications of Brillare Science Dandruff Co...  Brillare Science  "
      ]
     },
     "execution_count": 51,
     "metadata": {},
     "output_type": "execute_result"
    }
   ],
   "source": [
    "df_samp = df.sample(10)\n",
    "df_samp"
   ]
  },
  {
   "cell_type": "markdown",
   "id": "07471aed-198b-48a9-936d-775b710dfe40",
   "metadata": {},
   "source": [
    "Regardons à quoi correspondent plusieurs articles dans différentes catégories"
   ]
  },
  {
   "cell_type": "code",
   "execution_count": 52,
   "id": "8e4bb1fd-ceca-46a6-a291-0e43080e5bce",
   "metadata": {},
   "outputs": [
    {
     "name": "stdout",
     "output_type": "stream",
     "text": [
      "Product category : [\"Home Decor & Festive Needs >> Showpieces >> Ethnic >> Homedesires Ethnic\"]\n",
      "\n",
      "Product name : Homedesires Showpiece  -  10.5 cm\n",
      "\n",
      "brand : Homedesires\n",
      "\n",
      "Buy Homedesires Showpiece  -  10.5 cm for Rs.340 online. Homedesires Showpiece  -  10.5 cm at best prices with FREE shipping & cash on delivery. Only Genuine Products. 30 Day Replacement Guarantee....\n",
      "\n",
      "-----------------------------------------\n",
      "Product category : [\"Beauty and Personal Care >> Fragrances >> Deodorants >> Combos >> Wild Stone Combos\"]\n",
      "\n",
      "Product name : Wild Stone Drift,Wave Combo Set\n",
      "\n",
      "brand : nan\n",
      "\n",
      "Flipkart.com: Buy Wild Stone Drift,Wave Combo Set online only for Rs. 355 from Flipkart.com. Only Genuine Products. 30 Day Replacement Guarantee. Free Shipping. Cash On Delivery!...\n",
      "\n",
      "-----------------------------------------\n",
      "Product category : [\"Baby Care >> Infant Wear >> Baby Girls' Clothes >> Bodysuits & Sleepsuits >> Bodysuits >> Lula Bodysuits >> Lula Baby Girl's Dark Blue Bodysuit\"]\n",
      "\n",
      "Product name : Lula Baby Girl's Dark Blue Bodysuit\n",
      "\n",
      "brand : Lula\n",
      "\n",
      "Key Features of Lula Baby Girl's Dark Blue Bodysuit Fabric: cotton spandex Brand Color: ROYAL BLUE,Lula Baby Girl's Dark Blue Bodysuit Price: Rs. 330 Lula babywear is designed to caress the baby like rose petals. Softest and safest cotton wear made for the comfort of the babies. Produced with finest combed cotton and with materials meeting international standards of safety suitable for the delicate skin of the baby. Lula babywear is beautiful and gentle. No hooks or potentially hurting components are ever used. Plaquets and envelope arrangements are provided so that draping the baby or removing the garment is not troublesome.,Specifications of Lula Baby Girl's Dark Blue Bodysuit In The Box 1 Bodysuit Sleepsuit General Details Closure Snap Button Bootie No Sleeve Full sleeve Number of Contents in Sales Package Pack of 1 Age Group 9 -  12 month Fabric cotton spandex Pattern Solid Ideal For Baby Girl's Neck Round Neck Hood No Design Signature Embroidery Fabric Care Gentle Machine Wash or hand wash in Lukewarm Water, Use mild Detergent, Do Not Bleach, Line dry in shade, medium iron, Wash dark Colours Separately...\n",
      "\n",
      "-----------------------------------------\n",
      "Product category : [\"Beauty and Personal Care >> Makeup >> Vanity Boxes >> Borse Vanity Boxes\"]\n",
      "\n",
      "Product name : Borse N16 Make Up And Jewellery Vanity Case\n",
      "\n",
      "brand : nan\n",
      "\n",
      "Buy Borse N16 Make Up And Jewellery Vanity Case for Rs.680 online. Borse N16 Make Up And Jewellery Vanity Case at best prices with FREE shipping & cash on delivery. Only Genuine Products. 30 Day Replacement Guarantee....\n",
      "\n",
      "-----------------------------------------\n",
      "Product category : [\"Home Decor & Festive Needs >> Showpieces >> Ethnic >> Lal Haveli Ethnic\"]\n",
      "\n",
      "Product name : Lal Haveli Rajasthani Wooden Crafted Unique Chowkidar Statues Wooden Darwam Showpiece  -  50.8 cm\n",
      "\n",
      "brand : Lal Haveli\n",
      "\n",
      "Buy Lal Haveli Rajasthani Wooden Crafted Unique Chowkidar Statues Wooden Darwam Showpiece  -  50.8 cm for Rs.4795 online. Lal Haveli Rajasthani Wooden Crafted Unique Chowkidar Statues Wooden Darwam Showpiece  -  50.8 cm at best prices with FREE shipping & cash on delivery. Only Genuine Products. 30 Day Replacement Guarantee....\n",
      "\n",
      "-----------------------------------------\n",
      "Product category : [\"Kitchen & Dining >> Lighting >> Bulbs >> VRCT Bulbs\"]\n",
      "\n",
      "Product name : VRCT 5 W LED Bulb\n",
      "\n",
      "brand : VRCT\n",
      "\n",
      "Buy VRCT 5 W LED Bulb for Rs.259 online. VRCT 5 W LED Bulb at best prices with FREE shipping & cash on delivery. Only Genuine Products. 30 Day Replacement Guarantee....\n",
      "\n",
      "-----------------------------------------\n",
      "Product category : [\"Watches >> Wrist Watches >> Times Wrist Watches\"]\n",
      "\n",
      "Product name : Times 317TMS317 Party-Wedding Analog Watch  - For Men\n",
      "\n",
      "brand : nan\n",
      "\n",
      "Times 317TMS317 Party-Wedding Analog Watch  - For Men - Buy Times 317TMS317 Party-Wedding Analog Watch  - For Men  317TMS317 Online at Rs.550 in India Only at Flipkart.com. - Great Discounts, Only Genuine Products, 30 Day Replacement Guarantee, Free Shipping. Cash On Delivery!...\n",
      "\n",
      "-----------------------------------------\n",
      "Product category : [\"Watches >> Wrist Watches >> Flippd Wrist Watches\"]\n",
      "\n",
      "Product name : Flippd FDRBB1614 Fibre Analog Watch  - For Men\n",
      "\n",
      "brand : nan\n",
      "\n",
      "Flippd FDRBB1614 Fibre Analog Watch  - For Men - Buy Flippd FDRBB1614 Fibre Analog Watch  - For Men  FDRBB1614 Online at Rs.750 in India Only at Flipkart.com. Water Resistant, Buckle Clasp, Round Dial, Black Strap - Great Discounts, Only Genuine Products, 30 Day Replacement Guarantee, Free Shipping. Cash On Delivery!...\n",
      "\n",
      "-----------------------------------------\n",
      "Product category : [\"Kitchen & Dining >> Coffee Mugs >> Prithish Coffee Mugs\"]\n",
      "\n",
      "Product name : Prithish Hop Jump Skip Black Ceramic Mug\n",
      "\n",
      "brand : nan\n",
      "\n",
      "Prithish Hop Jump Skip Black Ceramic Mug (330 ml)\n",
      "                         Price: Rs. 275\n",
      "\t\t\t\t\n",
      "\t\t\t\"Get talking with your coffee! Our wide selection of cute and catchy designs means you're sure to find the quote that says what it is, the way it is. And if these mugs bring on the smiles, don't forget to share them. Mugs like these make great gifts! Each mug is beautifully designed with quality ink and attractive graphics, perfect for all around enjoyment.\" \"Express yourself! Our distinctive coffee mugs give you the freedom to broadcast your own special message, from holiday cheer to your love of cupcakes. These affordable mugs are also perfect for gifting, so you can show others just how well you know them. Break out the mugs, and bring on the laughs! Happy sipping!\n",
      "\"Get talking with your coffee! Our wide selection of cute and catchy designs means you're sure to find the quote that says what it is, the way it is. And if these mugs bring on the smiles, don't forget to share them. Mugs like these make great gifts! Each mug is beautifully designed with quality ink and attractive graphics, perfect for all around enjoyment.\" \"Express yourself! Our distinctive coffee mugs give you the freedom to broadcast your own special message, from holiday cheer to your love of cupcakes. These affordable mugs are also perfect for gifting, so you can show others just how well you know them. Break out the mugs, and bring on the laughs! Happy sipping!...\n",
      "\n",
      "-----------------------------------------\n",
      "Product category : [\"Beauty and Personal Care >> Combos and Kits >> Brillare Science Combos and Kits >> Brillare Science Dandruff Control Shampoo & Inte...\"]\n",
      "\n",
      "Product name : Brillare Science Dandruff Control Shampoo & Intenso Creme Combo\n",
      "\n",
      "brand : Brillare Science\n",
      "\n",
      "Specifications of Brillare Science Dandruff Control Shampoo & Intenso Creme Combo (Set of) Combo Set Details Combo Set Contents 1 Dandruff Control Shampoo 150ml, 1 Dandruff Control Intenso Creme 125g Ideal For Women, Men Organic No General Traits Professional Care Yes...\n",
      "\n",
      "-----------------------------------------\n"
     ]
    }
   ],
   "source": [
    "for idx, ser in df_samp.iterrows() :\n",
    "    print(\"Product category : \"+ser[\"product_category_tree\"]+ \"\\n\")\n",
    "    print(\"Product name : \"+ser[\"product_name\"] + \"\\n\")\n",
    "    print(\"brand : \"+ser[\"brand\"] + \"\\n\")\n",
    "    print(ser[\"description\"] + \"...\" + \"\\n\")\n",
    "    print(\"-----------------------------------------\")"
   ]
  },
  {
   "cell_type": "markdown",
   "id": "e37ca9af-dcad-402e-86b6-5ba85f35c48c",
   "metadata": {},
   "source": [
    "La description comporte dans tous ces exemples le nom du produit, il ne sera donc pas utile"
   ]
  },
  {
   "cell_type": "markdown",
   "id": "fe5b22f3-611a-4154-8c62-d68ce54691bd",
   "metadata": {},
   "source": [
    "## Brands"
   ]
  },
  {
   "cell_type": "code",
   "execution_count": 60,
   "id": "4cc30acd-a005-43dc-b566-1e2ddcb4b256",
   "metadata": {
    "tags": []
   },
   "outputs": [
    {
     "data": {
      "text/plain": [
       "brands    [elegance, sathiyas, eurospa, santosh, royal, ...\n",
       "dtype: object"
      ]
     },
     "execution_count": 60,
     "metadata": {},
     "output_type": "execute_result"
    }
   ],
   "source": [
    "# keep a list of the brands tokens\n",
    "brands_list = df[\"brand\"].unique().tolist()\n",
    "brands_list = [x.lower().split() for x in brands_list]\n",
    "brands_list = [x for sublist in brands_list for x in sublist]\n",
    "\n",
    "brands[:10]"
   ]
  },
  {
   "cell_type": "code",
   "execution_count": 61,
   "id": "f8ea02dc-ed45-47bb-a32f-79d5df5102f0",
   "metadata": {},
   "outputs": [],
   "source": [
    "import pickle\n",
    "l = brands_list\n",
    "with open(\"brands\", \"wb\") as fp:   #Pickling\n",
    "    pickle.dump(l, fp)"
   ]
  },
  {
   "cell_type": "code",
   "execution_count": 62,
   "id": "9725a6af-9ffb-427b-8b00-1f10f16e0db4",
   "metadata": {},
   "outputs": [],
   "source": [
    "df_category = df[[\"product_category_tree\"]]"
   ]
  },
  {
   "cell_type": "code",
   "execution_count": 63,
   "id": "9569f788-a023-45f6-9b57-c354b4b9b822",
   "metadata": {},
   "outputs": [],
   "source": [
    "df_category_2 = all_categories(df, \"product_category_tree\", 2, df_category)"
   ]
  },
  {
   "cell_type": "code",
   "execution_count": 64,
   "id": "79b77869-b72a-43e2-b0ea-8b641d02f8e7",
   "metadata": {},
   "outputs": [
    {
     "data": {
      "text/html": [
       "<div>\n",
       "<style scoped>\n",
       "    .dataframe tbody tr th:only-of-type {\n",
       "        vertical-align: middle;\n",
       "    }\n",
       "\n",
       "    .dataframe tbody tr th {\n",
       "        vertical-align: top;\n",
       "    }\n",
       "\n",
       "    .dataframe thead th {\n",
       "        text-align: right;\n",
       "    }\n",
       "</style>\n",
       "<table border=\"1\" class=\"dataframe\">\n",
       "  <thead>\n",
       "    <tr style=\"text-align: right;\">\n",
       "      <th></th>\n",
       "      <th>product_category_tree</th>\n",
       "      <th>categ_0</th>\n",
       "      <th>categ_1</th>\n",
       "    </tr>\n",
       "  </thead>\n",
       "  <tbody>\n",
       "    <tr>\n",
       "      <th>0</th>\n",
       "      <td>[\"Home Furnishing &gt;&gt; Curtains &amp; Accessories &gt;&gt;...</td>\n",
       "      <td>home furnishing</td>\n",
       "      <td>curtains accessories</td>\n",
       "    </tr>\n",
       "    <tr>\n",
       "      <th>1</th>\n",
       "      <td>[\"Baby Care &gt;&gt; Baby Bath &amp; Skin &gt;&gt; Baby Bath T...</td>\n",
       "      <td>baby care</td>\n",
       "      <td>baby bath skin</td>\n",
       "    </tr>\n",
       "    <tr>\n",
       "      <th>2</th>\n",
       "      <td>[\"Baby Care &gt;&gt; Baby Bath &amp; Skin &gt;&gt; Baby Bath T...</td>\n",
       "      <td>baby care</td>\n",
       "      <td>baby bath skin</td>\n",
       "    </tr>\n",
       "    <tr>\n",
       "      <th>3</th>\n",
       "      <td>[\"Home Furnishing &gt;&gt; Bed Linen &gt;&gt; Bedsheets &gt;&gt;...</td>\n",
       "      <td>home furnishing</td>\n",
       "      <td>bed linen</td>\n",
       "    </tr>\n",
       "    <tr>\n",
       "      <th>4</th>\n",
       "      <td>[\"Home Furnishing &gt;&gt; Bed Linen &gt;&gt; Bedsheets &gt;&gt;...</td>\n",
       "      <td>home furnishing</td>\n",
       "      <td>bed linen</td>\n",
       "    </tr>\n",
       "  </tbody>\n",
       "</table>\n",
       "</div>"
      ],
      "text/plain": [
       "                               product_category_tree          categ_0  \\\n",
       "0  [\"Home Furnishing >> Curtains & Accessories >>...  home furnishing   \n",
       "1  [\"Baby Care >> Baby Bath & Skin >> Baby Bath T...        baby care   \n",
       "2  [\"Baby Care >> Baby Bath & Skin >> Baby Bath T...        baby care   \n",
       "3  [\"Home Furnishing >> Bed Linen >> Bedsheets >>...  home furnishing   \n",
       "4  [\"Home Furnishing >> Bed Linen >> Bedsheets >>...  home furnishing   \n",
       "\n",
       "                categ_1  \n",
       "0  curtains accessories  \n",
       "1        baby bath skin  \n",
       "2        baby bath skin  \n",
       "3             bed linen  \n",
       "4             bed linen  "
      ]
     },
     "execution_count": 64,
     "metadata": {},
     "output_type": "execute_result"
    }
   ],
   "source": [
    "df_category_2.head(5)"
   ]
  },
  {
   "cell_type": "code",
   "execution_count": 65,
   "id": "d4bfab85-9f34-4482-b2ea-ac9a5de514ba",
   "metadata": {},
   "outputs": [],
   "source": [
    "data_T = df[[\"description\"]]"
   ]
  },
  {
   "cell_type": "markdown",
   "id": "91f9d04c-1af6-4e27-b9f6-8368dc92f07c",
   "metadata": {},
   "source": [
    "Extraction du premier niveau de l'arbre de catégorie"
   ]
  },
  {
   "cell_type": "code",
   "execution_count": 66,
   "id": "08d1149b-9906-4de3-8f6a-4c8ff901cdb4",
   "metadata": {},
   "outputs": [],
   "source": [
    "data_T = all_categories(df, \"product_category_tree\", 1, data_T)"
   ]
  },
  {
   "cell_type": "code",
   "execution_count": 67,
   "id": "f42d96bf-f369-4a75-b43d-70828cbf052c",
   "metadata": {},
   "outputs": [
    {
     "data": {
      "text/html": [
       "<div>\n",
       "<style scoped>\n",
       "    .dataframe tbody tr th:only-of-type {\n",
       "        vertical-align: middle;\n",
       "    }\n",
       "\n",
       "    .dataframe tbody tr th {\n",
       "        vertical-align: top;\n",
       "    }\n",
       "\n",
       "    .dataframe thead th {\n",
       "        text-align: right;\n",
       "    }\n",
       "</style>\n",
       "<table border=\"1\" class=\"dataframe\">\n",
       "  <thead>\n",
       "    <tr style=\"text-align: right;\">\n",
       "      <th></th>\n",
       "      <th>description</th>\n",
       "      <th>categ_0</th>\n",
       "    </tr>\n",
       "  </thead>\n",
       "  <tbody>\n",
       "    <tr>\n",
       "      <th>0</th>\n",
       "      <td>Key Features of Elegance Polyester Multicolor ...</td>\n",
       "      <td>home furnishing</td>\n",
       "    </tr>\n",
       "    <tr>\n",
       "      <th>1</th>\n",
       "      <td>Specifications of Sathiyas Cotton Bath Towel (...</td>\n",
       "      <td>baby care</td>\n",
       "    </tr>\n",
       "    <tr>\n",
       "      <th>2</th>\n",
       "      <td>Key Features of Eurospa Cotton Terry Face Towe...</td>\n",
       "      <td>baby care</td>\n",
       "    </tr>\n",
       "    <tr>\n",
       "      <th>3</th>\n",
       "      <td>Key Features of SANTOSH ROYAL FASHION Cotton P...</td>\n",
       "      <td>home furnishing</td>\n",
       "    </tr>\n",
       "    <tr>\n",
       "      <th>4</th>\n",
       "      <td>Key Features of Jaipur Print Cotton Floral Kin...</td>\n",
       "      <td>home furnishing</td>\n",
       "    </tr>\n",
       "  </tbody>\n",
       "</table>\n",
       "</div>"
      ],
      "text/plain": [
       "                                         description          categ_0\n",
       "0  Key Features of Elegance Polyester Multicolor ...  home furnishing\n",
       "1  Specifications of Sathiyas Cotton Bath Towel (...        baby care\n",
       "2  Key Features of Eurospa Cotton Terry Face Towe...        baby care\n",
       "3  Key Features of SANTOSH ROYAL FASHION Cotton P...  home furnishing\n",
       "4  Key Features of Jaipur Print Cotton Floral Kin...  home furnishing"
      ]
     },
     "execution_count": 67,
     "metadata": {},
     "output_type": "execute_result"
    }
   ],
   "source": [
    "data_T.head(5)"
   ]
  },
  {
   "cell_type": "code",
   "execution_count": 68,
   "id": "af984a8f-88f3-4ca9-8019-af035f859bf3",
   "metadata": {},
   "outputs": [],
   "source": [
    "data_T.to_csv(\"data_T.csv\")"
   ]
  },
  {
   "cell_type": "code",
   "execution_count": null,
   "id": "6ffbf134-9f9c-4ef4-a64f-0e69791168ba",
   "metadata": {},
   "outputs": [],
   "source": []
  }
 ],
 "metadata": {
  "kernelspec": {
   "display_name": "base",
   "language": "python",
   "name": "python3"
  },
  "language_info": {
   "codemirror_mode": {
    "name": "ipython",
    "version": 3
   },
   "file_extension": ".py",
   "mimetype": "text/x-python",
   "name": "python",
   "nbconvert_exporter": "python",
   "pygments_lexer": "ipython3",
   "version": "3.9.12 (main, Apr  4 2022, 05:22:27) [MSC v.1916 64 bit (AMD64)]"
  },
  "vscode": {
   "interpreter": {
    "hash": "ad2bdc8ecc057115af97d19610ffacc2b4e99fae6737bb82f5d7fb13d2f2c186"
   }
  }
 },
 "nbformat": 4,
 "nbformat_minor": 5
}
